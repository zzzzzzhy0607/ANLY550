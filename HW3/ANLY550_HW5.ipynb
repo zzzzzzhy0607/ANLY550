{
 "cells": [
  {
   "cell_type": "markdown",
   "metadata": {},
   "source": [
    "## ANLY550 Homework 5\n",
    "## Hongyang Zheng"
   ]
  },
  {
   "cell_type": "markdown",
   "metadata": {},
   "source": [
    "### Problem 1\n",
    "Prove that there is a unique minimum spanning tree on a connected undirected graph when the edge weights are unique.\n",
    "\n",
    "Proof: Assume there are two minimum spanning tree $T_1$ and $T_2$ for this connected undirected graph with unique edge weights. Since every edge has different weight, the edge $e_1$ with the minimum weight must in $T_1$ or $T_2$. Assume it is in $T_1$, then $T_2 \\cup e_1$ must generate a cycle. In this cycle, we know there is an $e_2 \\in T_2$ and $e_2 \\notin T_1$, since edge weights are unique, and we know $weight(e_1) < weight(e_2)$. Thus $T_2 \\cup e_1 \\backslash \\{e_2\\}$ will generate a spinning tree $T_3$, and $T_3$ has a smaller weight than $T_2$, which means $T_2$ is not a minimum spanning tree. Since there is a contradiction, our original assumption is not true. As a result, there is a unique minimum spanning tree on a connected undirected graph when the edge weights are unique."
   ]
  },
  {
   "cell_type": "markdown",
   "metadata": {},
   "source": [
    "<br>\n",
    "### Problem 2\n",
    "Suppose we have an array $A$ containing $n$ numbers, some of which may be negative. We wish to find indices $i$ and $j$ so that $\\sum_{k=i}^j A[k]$ is maximized. Find an algorithm that runs in time $O(n)$."
   ]
  },
  {
   "cell_type": "markdown",
   "metadata": {},
   "source": [
    "#### Describe the Algorithm\n",
    "Step 1: Initialize $i=0$ and $j=0$. Let current maximum $cur\\_max$ and maximum $max$ be $A[0]$.\n",
    "\n",
    "Step 2: For $k$ from $1$ to $n$ which $n$ is the length of array $A$. Compare $A[k]$ with $A[k]+cur\\_max$. \n",
    "   * If $A[k]>cur\\_max+A[k]$, which means $cur\\_max$ may be negative. Thus excluding it can help us find the maximum sum, so we let the start index $i = k$, and the current maximum is $A[k]$. \n",
    "   * If $A[k]<= cur\\_max+A[k]$, the current maximum is $cur\\_max + A[k]$. \n",
    "\n",
    "Then we compare $max$ with $cur\\_max$ to find the end index. If $max < cur\\_max$ we let the end index $j = k$ and $max = cur\\_max$.\n",
    "\n",
    "\n",
    "#### Pseudocode\n",
    "    Let i=0, j=0, cur_max=A[0] and max=A[0]\n",
    "    \n",
    "    For k in range(1, n): \n",
    "\n",
    "        If A[k]>cur_max+A[k]:\n",
    "            \n",
    "            i = k, cur_max = A[k]. \n",
    "\n",
    "        Otherwise:\n",
    "            \n",
    "            cur_max = cur_max + A[k].\n",
    "\n",
    "        If max < cur_max, then j=k, max = cur_max. \n",
    "\n",
    "    Return i, j, max.\n",
    "    \n",
    "#### Correctness\n",
    "If $A[k]>cur\\_max+A[k]$, we can start from the index $k$ to find the maximum subarray sum ($cur\\_max$ may be negative). As the $cur\\_max$ stores the current maximum sum, it may be smaller than the final maximum sum. We update the final maximum sum only when  $max < cur\\_max$, and update the end index $j$ to index $k$.\n",
    "\n",
    "#### Analysis of Time\n",
    "Since A is an array and we check each element of A only once, the running time is $O(n)$."
   ]
  },
  {
   "cell_type": "markdown",
   "metadata": {},
   "source": [
    "<br>\n",
    "### Problem 3\n",
    "\n",
    "Suppose we want to print a paragraph neatly on a page. The paragraph consists of words of length $l_1,l_2,...,l_n$. The maximum line length is $M$ . (Assume $l_i \\le M$ always.) We define a measure of neatness as follows. The extra space on a line (using one space between words) containing words $l_i$ through $l_j$ is $M − j + i − \\sum^j_{k=i} l_k$. The penalty is the sum over all lines except the last of the cube of the extra space at the end of the line. This has been proven to be an effective heuristic for neatness in practice. Find a dynamic programming algorithm to determine the neatest way to print a paragraph. Of course you should provide a recursive definition of the value of the optimal solution that motivates your algorithm."
   ]
  },
  {
   "cell_type": "markdown",
   "metadata": {},
   "source": [
    "#### The code is shown in neatness.py\n",
    "\n",
    "#### Describe the Algorithm\n",
    "\n",
    "Let $p[n]$ be the total penalty for the neatest way to print words $l_1$ through $l_n$.\n",
    "\n",
    "Let the subproblem be $p[j]$ which is the optimized total penalty for printing words from $l_1$ to $l_j$.\n",
    "\n",
    "Let $extra[i, j]$ indicate the extra space between words $l_i$ through $l_j$.\n",
    "\n",
    "Let $part\\_p[i, j]$ indicate the penalty from $l_i$ to $l_j$, which is the cube of $extra[i, j]$ except the last of the cube of the extra space at the end of the line. \n",
    "\n",
    "The recursion is: $p[j] = \\min \\{ p[i]+ part\\_p[i+1, j], p[j]\\} (1 \\leq i < j).$\n",
    "\n",
    "#### Pseudocode\n",
    "\n",
    "    for j from 1 to n:\n",
    "\n",
    "        for i from 1 to j:\n",
    "\n",
    "            p[j] = min { p[i]+ part_p[i+1, j], p[j] }.\n",
    "\n",
    "\n",
    "#### Correctness\n",
    "The sum penalty $p[j]$ for words $l_1$ through $l_j$ can either be\n",
    "* $p[j]$ itself, if adding the word $l_j$ still keep all words on one line\n",
    "\n",
    "or \n",
    "\n",
    "* The sum penalty for all lines except the last line, which is the words $l_1$ through some $l_i$ ($1 \\leq i < j$), plus the penalty for words on the last line $l_{i+1}$ through $l_j$.\n",
    "\n",
    "#### Analysis of Time\n",
    "We have one outer loop and one inner loop, so the time is $O(n^2)$.\n"
   ]
  },
  {
   "cell_type": "markdown",
   "metadata": {},
   "source": [
    "<br>\n",
    "### Problem 4\n",
    "Another type of problem often suitable for dynamic programming is problems on tree graphs. For example, suppose we have a graph $G = (V, E)$ that is a tree with a root $r$. Derive a recursion to find the size of the maximum-sized independent set of of $G$. (An independent set is a subset of graph vertices, such that no two have an edge between them.) For full credit, show that you can find the size of the maximum-sized independent set and the set itself in linear time."
   ]
  },
  {
   "cell_type": "markdown",
   "metadata": {},
   "source": [
    "#### Describe the Algorithm\n",
    "In a tree, the maximum-sized independent set is either the root + the maximum-sized independent set of its gradchildren or the maximum-sized independent set of its children. Let $I(j)$ be the size of the maximum-sized independent set in the subtree rooted at vertex $j$. Let $G(j)$ be the set of all the grandchildren of vertex $j$, and let $C(j)$ be the set of all the children of vertex $j$. Then we can express the recursive relation as $I(j) = \\max \\{ 1 + \\sum_{u \\in G(j)} I(u) ,  \\sum_{v \\in C(j) } I(v) \\}.$\n",
    "\n",
    "#### Pseudocode\n",
    "\n",
    "    Let the size of the maximum independent set I=0, and let the set of the maximum independent set s=[].\n",
    "\n",
    "    For each vertex j of G in the postorder of the DFS of G: \n",
    "\n",
    "        if j is a leaf:\n",
    "        \n",
    "            then s.append[j] and I = I+1\n",
    "        \n",
    "        else if 1 + sumI(u) > sumI(v), where u is the grandchildren of j and v is the children of j:\n",
    "            \n",
    "            then s.append[j] and I = I+1\n",
    "\n",
    "    Return I, s\n",
    "    \n",
    "\n",
    "#### Correctness\n",
    "Assume given a vertex $j$, we know the size of the maximum-sized independent set of its subtrees. As describe in the above, there are only two cases of the maximum-sized independent set: either $j$ is in the set, or it is not. If it is not, to be independent, the maximum independent set is the union of the maximum-sized independent sets of the `children` of $j$. If it is, to be independent, the maximum independent set is the union of $j$ and the maximum-sized independent sets of the `grandchildren` of $j$.\n",
    "\n",
    "When we check each vertex in postorder, we can find a leaf before the leaf's parent. The number of leaves of a vertex is always no smaller than 1, so always adding leaves to the independent set can make sure the independent set is maximized and does not generate conflict.\n",
    "\n",
    "#### Analysis of Time\n",
    "Suppose there are total n vertex, since we check each vertex only once in the postorder, the run time is $O(n)$."
   ]
  }
 ],
 "metadata": {
  "kernelspec": {
   "display_name": "Python 3",
   "language": "python",
   "name": "python3"
  },
  "language_info": {
   "codemirror_mode": {
    "name": "ipython",
    "version": 3
   },
   "file_extension": ".py",
   "mimetype": "text/x-python",
   "name": "python",
   "nbconvert_exporter": "python",
   "pygments_lexer": "ipython3",
   "version": "3.6.5"
  }
 },
 "nbformat": 4,
 "nbformat_minor": 2
}
